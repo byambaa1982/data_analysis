{
  "nbformat": 4,
  "nbformat_minor": 0,
  "metadata": {
    "colab": {
      "name": "kishore.ipynb",
      "provenance": [],
      "include_colab_link": true
    },
    "kernelspec": {
      "name": "python3",
      "display_name": "Python 3"
    }
  },
  "cells": [
    {
      "cell_type": "markdown",
      "metadata": {
        "id": "view-in-github",
        "colab_type": "text"
      },
      "source": [
        "<a href=\"https://colab.research.google.com/github/byambaa1982/data_analysis/blob/master/kishore.ipynb\" target=\"_parent\"><img src=\"https://colab.research.google.com/assets/colab-badge.svg\" alt=\"Open In Colab\"/></a>"
      ]
    },
    {
      "cell_type": "code",
      "metadata": {
        "id": "X2eCLZW3r40p",
        "colab_type": "code",
        "colab": {}
      },
      "source": [
        "import numpy as np\n",
        "import pandas as pd\n",
        "import datetime\n",
        "from dateutil.relativedelta import relativedelta\n",
        "from datetime import date\n",
        "from datetime import datetime\n",
        "import seaborn as sns\n",
        "import matplotlib.pyplot as plt\n",
        "sns.set(style=\"ticks\", color_codes=True)\n",
        "from sklearn.preprocessing import LabelEncoder\n",
        "import seaborn as sb\n",
        "\n",
        "%matplotlib inline\n"
      ],
      "execution_count": 0,
      "outputs": []
    },
    {
      "cell_type": "code",
      "metadata": {
        "id": "Oc8W5EpMsIlk",
        "colab_type": "code",
        "colab": {}
      },
      "source": [
        "df_orig=pd.read_excel(\"/content/data1.xlsx\")"
      ],
      "execution_count": 0,
      "outputs": []
    },
    {
      "cell_type": "code",
      "metadata": {
        "id": "jICMql5SC7Gz",
        "colab_type": "code",
        "colab": {}
      },
      "source": [
        "df=df_orig[['Reason', 'Instr Bal','Paid','Last Pay Dt','First Pay Dt','Tel 1', 'Email']]"
      ],
      "execution_count": 0,
      "outputs": []
    },
    {
      "cell_type": "markdown",
      "metadata": {
        "id": "lcEhXSMgCbhq",
        "colab_type": "text"
      },
      "source": [
        "## Let's take a loot data.\n",
        "\"Last Pay Dt\" and \"First Pay Dt\" have 56654 missing data out of 67325.\n",
        "A lot of missing data"
      ]
    },
    {
      "cell_type": "code",
      "metadata": {
        "id": "9jIVQ_MT6lj5",
        "colab_type": "code",
        "colab": {
          "base_uri": "https://localhost:8080/",
          "height": 170
        },
        "outputId": "f993fc31-a367-4c8e-fd44-b35abd7ca304"
      },
      "source": [
        "print(df_orig.shape)\n",
        "print(df.isnull().sum())"
      ],
      "execution_count": 65,
      "outputs": [
        {
          "output_type": "stream",
          "text": [
            "(67325, 71)\n",
            "Reason           3028\n",
            "Instr Bal          41\n",
            "Paid               41\n",
            "Last Pay Dt     56654\n",
            "First Pay Dt    56654\n",
            "Tel 1           39369\n",
            "Email            6579\n",
            "dtype: int64\n"
          ],
          "name": "stdout"
        }
      ]
    },
    {
      "cell_type": "code",
      "metadata": {
        "id": "MLcRtez0hHBM",
        "colab_type": "code",
        "colab": {
          "base_uri": "https://localhost:8080/",
          "height": 816
        },
        "outputId": "299b148d-80a2-4d9e-a14f-0930caad7bb0"
      },
      "source": [
        "df_corr=df_orig[['Reason', 'Instr Bal','Paid','Tel 1', 'Email']]\n",
        "df_corr.dropna(thresh=2, inplace=True)\n",
        "df_corr['Reason']=df_corr['Reason'].map(lambda x: 1 if x=='PIF' or x=='PP' or x=='PAID' else 0)\n",
        "df_corr['Instr Bal'] = df_corr['Instr Bal'].map(lambda x: x.replace('£', '') if type(x)==str else x)\n",
        "df_corr['Instr Bal'] = df_corr['Instr Bal'].map(lambda x: x.replace(',', '') if type(x)==str else x)\n",
        "df_corr['Instr Bal'] = df_corr['Instr Bal'].map(lambda x: float(x) if type(x)==str else x)\n",
        "df_corr['Paid'] = df_corr['Paid'].map(lambda x: x.replace('£', '') if type(x)==str else x)\n",
        "df_corr['Paid'] = df_corr['Paid'].map(lambda x: x.replace(',', '') if type(x)==str else x)\n",
        "df_corr['Paid'] = df_corr['Paid'].map(lambda x: float(x) if type(x)==str else x)\n"
      ],
      "execution_count": 66,
      "outputs": [
        {
          "output_type": "stream",
          "text": [
            "/usr/local/lib/python3.6/dist-packages/ipykernel_launcher.py:2: SettingWithCopyWarning: \n",
            "A value is trying to be set on a copy of a slice from a DataFrame\n",
            "\n",
            "See the caveats in the documentation: http://pandas.pydata.org/pandas-docs/stable/user_guide/indexing.html#returning-a-view-versus-a-copy\n",
            "  \n",
            "/usr/local/lib/python3.6/dist-packages/ipykernel_launcher.py:3: SettingWithCopyWarning: \n",
            "A value is trying to be set on a copy of a slice from a DataFrame.\n",
            "Try using .loc[row_indexer,col_indexer] = value instead\n",
            "\n",
            "See the caveats in the documentation: http://pandas.pydata.org/pandas-docs/stable/user_guide/indexing.html#returning-a-view-versus-a-copy\n",
            "  This is separate from the ipykernel package so we can avoid doing imports until\n",
            "/usr/local/lib/python3.6/dist-packages/ipykernel_launcher.py:4: SettingWithCopyWarning: \n",
            "A value is trying to be set on a copy of a slice from a DataFrame.\n",
            "Try using .loc[row_indexer,col_indexer] = value instead\n",
            "\n",
            "See the caveats in the documentation: http://pandas.pydata.org/pandas-docs/stable/user_guide/indexing.html#returning-a-view-versus-a-copy\n",
            "  after removing the cwd from sys.path.\n",
            "/usr/local/lib/python3.6/dist-packages/ipykernel_launcher.py:5: SettingWithCopyWarning: \n",
            "A value is trying to be set on a copy of a slice from a DataFrame.\n",
            "Try using .loc[row_indexer,col_indexer] = value instead\n",
            "\n",
            "See the caveats in the documentation: http://pandas.pydata.org/pandas-docs/stable/user_guide/indexing.html#returning-a-view-versus-a-copy\n",
            "  \"\"\"\n",
            "/usr/local/lib/python3.6/dist-packages/ipykernel_launcher.py:6: SettingWithCopyWarning: \n",
            "A value is trying to be set on a copy of a slice from a DataFrame.\n",
            "Try using .loc[row_indexer,col_indexer] = value instead\n",
            "\n",
            "See the caveats in the documentation: http://pandas.pydata.org/pandas-docs/stable/user_guide/indexing.html#returning-a-view-versus-a-copy\n",
            "  \n",
            "/usr/local/lib/python3.6/dist-packages/ipykernel_launcher.py:7: SettingWithCopyWarning: \n",
            "A value is trying to be set on a copy of a slice from a DataFrame.\n",
            "Try using .loc[row_indexer,col_indexer] = value instead\n",
            "\n",
            "See the caveats in the documentation: http://pandas.pydata.org/pandas-docs/stable/user_guide/indexing.html#returning-a-view-versus-a-copy\n",
            "  import sys\n",
            "/usr/local/lib/python3.6/dist-packages/ipykernel_launcher.py:8: SettingWithCopyWarning: \n",
            "A value is trying to be set on a copy of a slice from a DataFrame.\n",
            "Try using .loc[row_indexer,col_indexer] = value instead\n",
            "\n",
            "See the caveats in the documentation: http://pandas.pydata.org/pandas-docs/stable/user_guide/indexing.html#returning-a-view-versus-a-copy\n",
            "  \n",
            "/usr/local/lib/python3.6/dist-packages/ipykernel_launcher.py:9: SettingWithCopyWarning: \n",
            "A value is trying to be set on a copy of a slice from a DataFrame.\n",
            "Try using .loc[row_indexer,col_indexer] = value instead\n",
            "\n",
            "See the caveats in the documentation: http://pandas.pydata.org/pandas-docs/stable/user_guide/indexing.html#returning-a-view-versus-a-copy\n",
            "  if __name__ == '__main__':\n"
          ],
          "name": "stderr"
        }
      ]
    },
    {
      "cell_type": "markdown",
      "metadata": {
        "id": "19bOiw1lDf6Y",
        "colab_type": "text"
      },
      "source": [
        "## Let's see some statistics"
      ]
    },
    {
      "cell_type": "code",
      "metadata": {
        "id": "duKrdlMAiwA-",
        "colab_type": "code",
        "colab": {
          "base_uri": "https://localhost:8080/",
          "height": 297
        },
        "outputId": "a2ca7bba-8946-4346-d359-fa3c623d1461"
      },
      "source": [
        "df_corr.describe()"
      ],
      "execution_count": 67,
      "outputs": [
        {
          "output_type": "execute_result",
          "data": {
            "text/html": [
              "<div>\n",
              "<style scoped>\n",
              "    .dataframe tbody tr th:only-of-type {\n",
              "        vertical-align: middle;\n",
              "    }\n",
              "\n",
              "    .dataframe tbody tr th {\n",
              "        vertical-align: top;\n",
              "    }\n",
              "\n",
              "    .dataframe thead th {\n",
              "        text-align: right;\n",
              "    }\n",
              "</style>\n",
              "<table border=\"1\" class=\"dataframe\">\n",
              "  <thead>\n",
              "    <tr style=\"text-align: right;\">\n",
              "      <th></th>\n",
              "      <th>Reason</th>\n",
              "      <th>Instr Bal</th>\n",
              "      <th>Paid</th>\n",
              "    </tr>\n",
              "  </thead>\n",
              "  <tbody>\n",
              "    <tr>\n",
              "      <th>count</th>\n",
              "      <td>67284.000000</td>\n",
              "      <td>67284.000000</td>\n",
              "      <td>67284.000000</td>\n",
              "    </tr>\n",
              "    <tr>\n",
              "      <th>mean</th>\n",
              "      <td>0.088862</td>\n",
              "      <td>1036.258121</td>\n",
              "      <td>39.062512</td>\n",
              "    </tr>\n",
              "    <tr>\n",
              "      <th>std</th>\n",
              "      <td>0.284547</td>\n",
              "      <td>1070.552384</td>\n",
              "      <td>141.887675</td>\n",
              "    </tr>\n",
              "    <tr>\n",
              "      <th>min</th>\n",
              "      <td>0.000000</td>\n",
              "      <td>0.010000</td>\n",
              "      <td>0.000000</td>\n",
              "    </tr>\n",
              "    <tr>\n",
              "      <th>25%</th>\n",
              "      <td>0.000000</td>\n",
              "      <td>296.400000</td>\n",
              "      <td>0.000000</td>\n",
              "    </tr>\n",
              "    <tr>\n",
              "      <th>50%</th>\n",
              "      <td>0.000000</td>\n",
              "      <td>777.100000</td>\n",
              "      <td>0.000000</td>\n",
              "    </tr>\n",
              "    <tr>\n",
              "      <th>75%</th>\n",
              "      <td>0.000000</td>\n",
              "      <td>1331.200000</td>\n",
              "      <td>0.000000</td>\n",
              "    </tr>\n",
              "    <tr>\n",
              "      <th>max</th>\n",
              "      <td>1.000000</td>\n",
              "      <td>35643.230000</td>\n",
              "      <td>5100.000000</td>\n",
              "    </tr>\n",
              "  </tbody>\n",
              "</table>\n",
              "</div>"
            ],
            "text/plain": [
              "             Reason     Instr Bal          Paid\n",
              "count  67284.000000  67284.000000  67284.000000\n",
              "mean       0.088862   1036.258121     39.062512\n",
              "std        0.284547   1070.552384    141.887675\n",
              "min        0.000000      0.010000      0.000000\n",
              "25%        0.000000    296.400000      0.000000\n",
              "50%        0.000000    777.100000      0.000000\n",
              "75%        0.000000   1331.200000      0.000000\n",
              "max        1.000000  35643.230000   5100.000000"
            ]
          },
          "metadata": {
            "tags": []
          },
          "execution_count": 67
        }
      ]
    },
    {
      "cell_type": "code",
      "metadata": {
        "id": "g5hY-TSz7f04",
        "colab_type": "code",
        "colab": {}
      },
      "source": [
        "df = df_orig.loc[:, df_orig.isnull().sum() < 0.9*df_orig.shape[0]]\n",
        "df=df.dropna()\n",
        "df['Instr Bal'] = df['Instr Bal'].str.replace('£', '')\n",
        "df['Instr Bal'] = pd.to_numeric(df['Instr Bal'],errors='coerce')\n",
        "df['Paid'] = df['Paid'].str.replace('£', '')\n",
        "df['Paid'] = pd.to_numeric(df['Paid'],errors='coerce')\n",
        "# df['Adjusted'] = df.apply(lambda x: float(x['Adjusted'].replace('£', '')),axis=1)\n",
        "# df['Adjusted'] = df['Adjusted'].str.replace('£', '')\n",
        "# df['Adjusted'] = pd.to_numeric(df['Adjusted'],errors='coerce')\n",
        "# df['Interest'] = df['Interest'].str.replace('£', '')\n",
        "# df['Interest'] = pd.to_numeric(df['Interest'],errors='coerce')\n",
        "# df['Inv Balance'] = df['Inv Balance'].str.replace('£', '')\n",
        "# df['Inv Balance'] = pd.to_numeric(df['Inv Balance'],errors='coerce')\n",
        "# df['Bal Inc Int'] = df['Bal Inc Int'].str.replace('£', '')\n",
        "# df['Bal Inc Int'] = pd.to_numeric(df['Bal Inc Int'],errors='coerce')\n",
        "df['Last Pay Amt'] = df['Last Pay Amt'].str.replace('£', '')\n",
        "df['Last Pay Amt'] = pd.to_numeric(df['Last Pay Amt'],errors='coerce')\n",
        "df['First Pay Amt'] = df['First Pay Amt'].str.replace('£', '')\n",
        "df['First Pay Amt'] = pd.to_numeric(df['First Pay Amt'],errors='coerce')\n",
        "df['Arr Amount'] = df['Arr Amount'].str.replace('£', '')\n",
        "df['Arr Amount'] = pd.to_numeric(df['Arr Amount'],errors='coerce')\n",
        "df['Reason']=df['Reason'].map(lambda x: 1 if x=='PIF' or x=='PP' or x=='PAID' else 0)\n"
      ],
      "execution_count": 0,
      "outputs": []
    },
    {
      "cell_type": "markdown",
      "metadata": {
        "id": "afxdLiaRNNWj",
        "colab_type": "text"
      },
      "source": [
        "\n",
        "1. How much in payments are received by month and by 'portfolio'?\n",
        "2. What needs to be included is the amount of the original debt (Instr Bal)?\n",
        "3. what was collected recently (Last Pay Amt) broken down by month, from (Last Pay Dt).\n",
        "4. how much is being collected each month, from each portfolio,\n",
        "5. what percentage of the outstanding balance of each portfolio is collected each month. \n",
        "6. How the collections are trending are they improving or declining? \n",
        "7. which portion is improving or declining? \n",
        "8. Is there any correlation with collections and the telephone number first 5 digits? (Tel 1, Tel2, Tel3) \n",
        "9. Is there a correlation with amount collected and email.\n",
        "\n",
        "\n"
      ]
    },
    {
      "cell_type": "code",
      "metadata": {
        "id": "e_SYCkF4M0Hg",
        "colab_type": "code",
        "colab": {
          "base_uri": "https://localhost:8080/",
          "height": 403
        },
        "outputId": "6a6ca172-5a7c-40c0-8361-694b169e605b"
      },
      "source": [
        "plt.figure(figsize=(26, 20))\n",
        "sns.catplot(x=\"Reason\", y=\"Paid\", hue=\"Tel 1\", kind=\"bar\", data=df_corr)"
      ],
      "execution_count": 69,
      "outputs": [
        {
          "output_type": "execute_result",
          "data": {
            "text/plain": [
              "<seaborn.axisgrid.FacetGrid at 0x7fac0f4fd5c0>"
            ]
          },
          "metadata": {
            "tags": []
          },
          "execution_count": 69
        },
        {
          "output_type": "display_data",
          "data": {
            "text/plain": [
              "<Figure size 1872x1440 with 0 Axes>"
            ]
          },
          "metadata": {
            "tags": []
          }
        },
        {
          "output_type": "display_data",
          "data": {
            "image/png": "[encoded data removed]",
            "text/plain": [
              "<Figure size 651.959x360 with 1 Axes>"
            ]
          },
          "metadata": {
            "tags": []
          }
        }
      ]
    },
    {
      "cell_type": "code",
      "metadata": {
        "id": "qWuIoT1GOoF6",
        "colab_type": "code",
        "colab": {
          "base_uri": "https://localhost:8080/",
          "height": 386
        },
        "outputId": "d50be43c-8d1a-4829-dbab-b9b5ad894ff1"
      },
      "source": [
        "sns.catplot(x=\"Reason\", y=\"Instr Bal\", hue=\"Tel 1\", kind=\"bar\", data=df_corr)"
      ],
      "execution_count": 70,
      "outputs": [
        {
          "output_type": "execute_result",
          "data": {
            "text/plain": [
              "<seaborn.axisgrid.FacetGrid at 0x7fabde410b70>"
            ]
          },
          "metadata": {
            "tags": []
          },
          "execution_count": 70
        },
        {
          "output_type": "display_data",
          "data": {
            "image/png": "[encoded data removed]",
            "text/plain": [
              "<Figure size 651.959x360 with 1 Axes>"
            ]
          },
          "metadata": {
            "tags": []
          }
        }
      ]
    },
    {
      "cell_type": "code",
      "metadata": {
        "id": "aLwnalH1QNF1",
        "colab_type": "code",
        "colab": {
          "base_uri": "https://localhost:8080/",
          "height": 629
        },
        "outputId": "3ea8c1b7-6c28-4d7b-f874-0cfabb3c095b"
      },
      "source": [
        "g=sns.catplot(x=\"Tel 1\", y=\"Instr Bal\", kind=\"bar\", data=df_corr)\n",
        "g.set_xticklabels(rotation=90)"
      ],
      "execution_count": 71,
      "outputs": [
        {
          "output_type": "execute_result",
          "data": {
            "text/plain": [
              "<seaborn.axisgrid.FacetGrid at 0x7fabe068e470>"
            ]
          },
          "metadata": {
            "tags": []
          },
          "execution_count": 71
        },
        {
          "output_type": "display_data",
          "data": {
            "image/png": "[encoded data removed]",
            "text/plain": [
              "<Figure size 360x360 with 1 Axes>"
            ]
          },
          "metadata": {
            "tags": []
          }
        }
      ]
    },
    {
      "cell_type": "markdown",
      "metadata": {
        "id": "rdozE4UWWWvj",
        "colab_type": "text"
      },
      "source": [
        "## What is the most popular phone operator?"
      ]
    },
    {
      "cell_type": "code",
      "metadata": {
        "id": "srwvyyW2WEyV",
        "colab_type": "code",
        "colab": {
          "base_uri": "https://localhost:8080/",
          "height": 683
        },
        "outputId": "3d7663f1-f2f3-4bb1-c690-e82c38b6a166"
      },
      "source": [
        "g = sns.factorplot(\"Tel 1\", data=df_corr, aspect=1.5, kind=\"count\", color=\"b\")\n",
        "g.set_xticklabels(rotation=90)"
      ],
      "execution_count": 72,
      "outputs": [
        {
          "output_type": "stream",
          "text": [
            "/usr/local/lib/python3.6/dist-packages/seaborn/categorical.py:3666: UserWarning: The `factorplot` function has been renamed to `catplot`. The original name will be removed in a future release. Please update your code. Note that the default `kind` in `factorplot` (`'point'`) has changed `'strip'` in `catplot`.\n",
            "  warnings.warn(msg)\n"
          ],
          "name": "stderr"
        },
        {
          "output_type": "execute_result",
          "data": {
            "text/plain": [
              "<seaborn.axisgrid.FacetGrid at 0x7fabdec37d30>"
            ]
          },
          "metadata": {
            "tags": []
          },
          "execution_count": 72
        },
        {
          "output_type": "display_data",
          "data": {
            "image/png": "[encoded data removed]",
            "text/plain": [
              "<Figure size 540x360 with 1 Axes>"
            ]
          },
          "metadata": {
            "tags": []
          }
        }
      ]
    },
    {
      "cell_type": "markdown",
      "metadata": {
        "id": "wVgi9i6AVBA1",
        "colab_type": "text"
      },
      "source": [
        "## There are 1479 different email domains. "
      ]
    },
    {
      "cell_type": "code",
      "metadata": {
        "id": "Eds2C5PaUYo4",
        "colab_type": "code",
        "colab": {
          "base_uri": "https://localhost:8080/",
          "height": 34
        },
        "outputId": "f11c009f-1424-4f5c-95fd-3bb309d7fe4a"
      },
      "source": [
        "len(df_corr.Email.value_counts())"
      ],
      "execution_count": 73,
      "outputs": [
        {
          "output_type": "execute_result",
          "data": {
            "text/plain": [
              "1479"
            ]
          },
          "metadata": {
            "tags": []
          },
          "execution_count": 73
        }
      ]
    },
    {
      "cell_type": "markdown",
      "metadata": {
        "id": "inJ-GeLmVOIZ",
        "colab_type": "text"
      },
      "source": [
        "## The most popular email domains are gmail.com, hotmail.co.uk, \n",
        "## hotmail.com, yahoo.co.uk and live.co.uk"
      ]
    },
    {
      "cell_type": "code",
      "metadata": {
        "id": "8Jfn3yKrVVhg",
        "colab_type": "code",
        "colab": {
          "base_uri": "https://localhost:8080/",
          "height": 221
        },
        "outputId": "aa46bd27-9d35-40f3-8693-1e4008581dd3"
      },
      "source": [
        "df_corr.Email.value_counts()"
      ],
      "execution_count": 74,
      "outputs": [
        {
          "output_type": "execute_result",
          "data": {
            "text/plain": [
              "gmail.com                 13956\n",
              "hotmail.co.uk             12822\n",
              "hotmail.com                8016\n",
              "yahoo.co.uk                4122\n",
              "live.co.uk                 3368\n",
              "                          ...  \n",
              "wilkinson-helsby.co.uk        1\n",
              "altnation.com                 1\n",
              "kcom.co.uk                    1\n",
              "gmx.co                        1\n",
              "agema-ind.com                 1\n",
              "Name: Email, Length: 1479, dtype: int64"
            ]
          },
          "metadata": {
            "tags": []
          },
          "execution_count": 74
        }
      ]
    },
    {
      "cell_type": "code",
      "metadata": {
        "id": "pqb7DYXcYr4c",
        "colab_type": "code",
        "colab": {}
      },
      "source": [
        "df_corr_dr=df_corr[df_corr.Email.isin(['gmail.com','yahoo.co.uk','hotmail.com','hotmail.co.uk','live.co.uk'])]"
      ],
      "execution_count": 0,
      "outputs": []
    },
    {
      "cell_type": "code",
      "metadata": {
        "id": "eMlbjqeed6Nq",
        "colab_type": "code",
        "colab": {
          "base_uri": "https://localhost:8080/",
          "height": 471
        },
        "outputId": "539151dc-c1d0-4bad-c27f-6a21e954043b"
      },
      "source": [
        "g = sns.catplot(x=\"Email\", y=\"Reason\", col=\"Tel 1\",\n",
        "                data=df_corr_dr, saturation=.5,\n",
        "                 kind=\"bar\", ci=None, aspect=.6)\n",
        "g.set_xticklabels(rotation=90)"
      ],
      "execution_count": 76,
      "outputs": [
        {
          "output_type": "execute_result",
          "data": {
            "text/plain": [
              "<seaborn.axisgrid.FacetGrid at 0x7fabe1aefd68>"
            ]
          },
          "metadata": {
            "tags": []
          },
          "execution_count": 76
        },
        {
          "output_type": "display_data",
          "data": {
            "image/png": "[encoded data removed]",
            "text/plain": [
              "<Figure size 1728x360 with 8 Axes>"
            ]
          },
          "metadata": {
            "tags": []
          }
        }
      ]
    },
    {
      "cell_type": "code",
      "metadata": {
        "id": "IxLJdu0rean8",
        "colab_type": "code",
        "colab": {
          "base_uri": "https://localhost:8080/",
          "height": 451
        },
        "outputId": "936bd5d4-c6e3-49f4-fabb-371a66c8d214"
      },
      "source": [
        "g = sns.catplot(x=\"Email\", y=\"Reason\",\n",
        "                data=df_corr_dr, saturation=.5,\n",
        "                 kind=\"bar\", ci=None, aspect=.6)\n",
        "g.set_xticklabels(rotation=90)"
      ],
      "execution_count": 77,
      "outputs": [
        {
          "output_type": "execute_result",
          "data": {
            "text/plain": [
              "<seaborn.axisgrid.FacetGrid at 0x7fabe06500f0>"
            ]
          },
          "metadata": {
            "tags": []
          },
          "execution_count": 77
        },
        {
          "output_type": "display_data",
          "data": {
            "image/png": "[encoded data removed]",
            "text/plain": [
              "<Figure size 216x360 with 1 Axes>"
            ]
          },
          "metadata": {
            "tags": []
          }
        }
      ]
    },
    {
      "cell_type": "code",
      "metadata": {
        "id": "eRy4gFWIYyrj",
        "colab_type": "code",
        "colab": {
          "base_uri": "https://localhost:8080/",
          "height": 683
        },
        "outputId": "bc82dec3-dce3-497b-9e5e-6b565e9b80ed"
      },
      "source": [
        "g = sns.factorplot(\"Tel 1\", data=df_corr_dr, aspect=1.5, kind=\"count\", color=\"b\")\n",
        "g.set_xticklabels(rotation=90)"
      ],
      "execution_count": 78,
      "outputs": [
        {
          "output_type": "stream",
          "text": [
            "/usr/local/lib/python3.6/dist-packages/seaborn/categorical.py:3666: UserWarning: The `factorplot` function has been renamed to `catplot`. The original name will be removed in a future release. Please update your code. Note that the default `kind` in `factorplot` (`'point'`) has changed `'strip'` in `catplot`.\n",
            "  warnings.warn(msg)\n"
          ],
          "name": "stderr"
        },
        {
          "output_type": "execute_result",
          "data": {
            "text/plain": [
              "<seaborn.axisgrid.FacetGrid at 0x7fabd81c84e0>"
            ]
          },
          "metadata": {
            "tags": []
          },
          "execution_count": 78
        },
        {
          "output_type": "display_data",
          "data": {
            "image/png": "[encoded data removed]",
            "text/plain": [
              "<Figure size 540x360 with 1 Axes>"
            ]
          },
          "metadata": {
            "tags": []
          }
        }
      ]
    },
    {
      "cell_type": "code",
      "metadata": {
        "id": "MnGtq8rOZBTf",
        "colab_type": "code",
        "colab": {
          "base_uri": "https://localhost:8080/",
          "height": 629
        },
        "outputId": "813e52b7-a1be-4645-acdc-580c42be4ade"
      },
      "source": [
        "g=sns.catplot(x=\"Tel 1\", y=\"Instr Bal\", kind=\"bar\", data=df_corr_dr)\n",
        "g.set_xticklabels(rotation=90)"
      ],
      "execution_count": 79,
      "outputs": [
        {
          "output_type": "execute_result",
          "data": {
            "text/plain": [
              "<seaborn.axisgrid.FacetGrid at 0x7fabde3bb0b8>"
            ]
          },
          "metadata": {
            "tags": []
          },
          "execution_count": 79
        },
        {
          "output_type": "display_data",
          "data": {
            "image/png": "[encoded data removed]",
            "text/plain": [
              "<Figure size 360x360 with 1 Axes>"
            ]
          },
          "metadata": {
            "tags": []
          }
        }
      ]
    },
    {
      "cell_type": "code",
      "metadata": {
        "id": "sfLWGY2FZHwk",
        "colab_type": "code",
        "colab": {
          "base_uri": "https://localhost:8080/",
          "height": 629
        },
        "outputId": "6b4b63e6-73eb-42d7-ee72-a0f2db532794"
      },
      "source": [
        "g=sns.catplot(x=\"Tel 1\", y=\"Paid\", kind=\"bar\", data=df_corr_dr)\n",
        "g.set_xticklabels(rotation=90)"
      ],
      "execution_count": 80,
      "outputs": [
        {
          "output_type": "execute_result",
          "data": {
            "text/plain": [
              "<seaborn.axisgrid.FacetGrid at 0x7fabe0c98780>"
            ]
          },
          "metadata": {
            "tags": []
          },
          "execution_count": 80
        },
        {
          "output_type": "display_data",
          "data": {
            "image/png": "[encoded data removed]",
            "text/plain": [
              "<Figure size 360x360 with 1 Axes>"
            ]
          },
          "metadata": {
            "tags": []
          }
        }
      ]
    },
    {
      "cell_type": "code",
      "metadata": {
        "id": "cms69CWtam2w",
        "colab_type": "code",
        "colab": {}
      },
      "source": [
        "df_corr_dr.to_excel('pop_email.xlsx')"
      ],
      "execution_count": 0,
      "outputs": []
    },
    {
      "cell_type": "code",
      "metadata": {
        "id": "mNdYXxx_iVOA",
        "colab_type": "code",
        "colab": {}
      },
      "source": [
        "le = LabelEncoder()"
      ],
      "execution_count": 0,
      "outputs": []
    },
    {
      "cell_type": "code",
      "metadata": {
        "id": "8isA6YjHjMsz",
        "colab_type": "code",
        "colab": {}
      },
      "source": [
        "from sklearn.preprocessing import OneHotEncoder"
      ],
      "execution_count": 0,
      "outputs": []
    },
    {
      "cell_type": "code",
      "metadata": {
        "id": "SROGC0WVi-5R",
        "colab_type": "code",
        "colab": {
          "base_uri": "https://localhost:8080/",
          "height": 204
        },
        "outputId": "cc979c3f-c58c-4b0f-d3ff-3f4ae20d17a0"
      },
      "source": [
        "df_corr_dr.head()"
      ],
      "execution_count": 84,
      "outputs": [
        {
          "output_type": "execute_result",
          "data": {
            "text/html": [
              "<div>\n",
              "<style scoped>\n",
              "    .dataframe tbody tr th:only-of-type {\n",
              "        vertical-align: middle;\n",
              "    }\n",
              "\n",
              "    .dataframe tbody tr th {\n",
              "        vertical-align: top;\n",
              "    }\n",
              "\n",
              "    .dataframe thead th {\n",
              "        text-align: right;\n",
              "    }\n",
              "</style>\n",
              "<table border=\"1\" class=\"dataframe\">\n",
              "  <thead>\n",
              "    <tr style=\"text-align: right;\">\n",
              "      <th></th>\n",
              "      <th>Reason</th>\n",
              "      <th>Instr Bal</th>\n",
              "      <th>Paid</th>\n",
              "      <th>Tel 1</th>\n",
              "      <th>Email</th>\n",
              "    </tr>\n",
              "  </thead>\n",
              "  <tbody>\n",
              "    <tr>\n",
              "      <th>5</th>\n",
              "      <td>1</td>\n",
              "      <td>524.76</td>\n",
              "      <td>524.76</td>\n",
              "      <td>NaN</td>\n",
              "      <td>hotmail.co.uk</td>\n",
              "    </tr>\n",
              "    <tr>\n",
              "      <th>9</th>\n",
              "      <td>0</td>\n",
              "      <td>1198.41</td>\n",
              "      <td>0.00</td>\n",
              "      <td>NaN</td>\n",
              "      <td>gmail.com</td>\n",
              "    </tr>\n",
              "    <tr>\n",
              "      <th>10</th>\n",
              "      <td>0</td>\n",
              "      <td>594.48</td>\n",
              "      <td>0.00</td>\n",
              "      <td>NaN</td>\n",
              "      <td>yahoo.co.uk</td>\n",
              "    </tr>\n",
              "    <tr>\n",
              "      <th>12</th>\n",
              "      <td>1</td>\n",
              "      <td>614.20</td>\n",
              "      <td>614.20</td>\n",
              "      <td>NaN</td>\n",
              "      <td>yahoo.co.uk</td>\n",
              "    </tr>\n",
              "    <tr>\n",
              "      <th>13</th>\n",
              "      <td>1</td>\n",
              "      <td>530.11</td>\n",
              "      <td>690.11</td>\n",
              "      <td>NaN</td>\n",
              "      <td>yahoo.co.uk</td>\n",
              "    </tr>\n",
              "  </tbody>\n",
              "</table>\n",
              "</div>"
            ],
            "text/plain": [
              "    Reason  Instr Bal    Paid Tel 1          Email\n",
              "5        1     524.76  524.76   NaN  hotmail.co.uk\n",
              "9        0    1198.41    0.00   NaN      gmail.com\n",
              "10       0     594.48    0.00   NaN    yahoo.co.uk\n",
              "12       1     614.20  614.20   NaN    yahoo.co.uk\n",
              "13       1     530.11  690.11   NaN    yahoo.co.uk"
            ]
          },
          "metadata": {
            "tags": []
          },
          "execution_count": 84
        }
      ]
    },
    {
      "cell_type": "code",
      "metadata": {
        "id": "g3pWxVbCm5s4",
        "colab_type": "code",
        "colab": {}
      },
      "source": [
        "class MultiColumnLabelEncoder:\n",
        "    \n",
        "    def __init__(self, columns = None):\n",
        "        self.columns = columns # list of column to encode\n",
        "    def fit(self, X, y=None):\n",
        "        return self\n",
        "    def transform(self, X):\n",
        "        '''\n",
        "        Transforms columns of X specified in self.columns using\n",
        "        LabelEncoder(). If no columns specified, transforms all\n",
        "        columns in X.\n",
        "        '''\n",
        "        \n",
        "        output = X.copy()\n",
        "        \n",
        "        if self.columns is not None:\n",
        "            for col in self.columns:\n",
        "                output[col] = LabelEncoder().fit_transform(output[col])\n",
        "        else:\n",
        "            for colname, col in output.iteritems():\n",
        "                output[colname] = LabelEncoder().fit_transform(col)\n",
        "        \n",
        "        return output\n",
        "    def fit_transform(self, X, y=None):\n",
        "        return self.fit(X, y).transform(X)"
      ],
      "execution_count": 0,
      "outputs": []
    },
    {
      "cell_type": "code",
      "metadata": {
        "id": "I7f_xIBwypfJ",
        "colab_type": "code",
        "colab": {}
      },
      "source": [
        "import seaborn as sb"
      ],
      "execution_count": 0,
      "outputs": []
    },
    {
      "cell_type": "markdown",
      "metadata": {
        "id": "RK_x3c_P073b",
        "colab_type": "text"
      },
      "source": [
        "## Let’s start by making a correlation matrix heatmap for the email data set."
      ]
    },
    {
      "cell_type": "code",
      "metadata": {
        "id": "srGKMXD81NA8",
        "colab_type": "code",
        "colab": {}
      },
      "source": [
        "df_con.to_excel('five_pop_email.xlsx')"
      ],
      "execution_count": 0,
      "outputs": []
    },
    {
      "cell_type": "markdown",
      "metadata": {
        "id": "u6xHe40B2c42",
        "colab_type": "text"
      },
      "source": [
        "## The most five popular email domains"
      ]
    },
    {
      "cell_type": "code",
      "metadata": {
        "id": "lQQsnBaB2T33",
        "colab_type": "code",
        "colab": {}
      },
      "source": [
        "df=df_corr[df_corr.Email.isin(['gmail.com','yahoo.co.uk','hotmail.com','hotmail.co.uk','live.co.uk'])]\n",
        "df=df[['Reason', 'Instr Bal', 'Paid', 'Email']]"
      ],
      "execution_count": 0,
      "outputs": []
    },
    {
      "cell_type": "code",
      "metadata": {
        "id": "AXRIUStA2q_w",
        "colab_type": "code",
        "colab": {}
      },
      "source": [
        "df.to_excel('five_the_most_pop_email.xlsx')"
      ],
      "execution_count": 0,
      "outputs": []
    },
    {
      "cell_type": "code",
      "metadata": {
        "id": "IT4z0zzP3zKI",
        "colab_type": "code",
        "colab": {}
      },
      "source": [
        "X_train=df[[\"Email\"]]\n",
        "le = MultiColumnLabelEncoder()\n",
        "X_train_le = le.fit_transform(X_train)\n",
        "df_con=pd.concat([df_corr_dr.iloc[:,0:3],X_train_le], axis=1)\n",
        "pearsoncorr=df_con.corr(method='pearson')"
      ],
      "execution_count": 0,
      "outputs": []
    },
    {
      "cell_type": "markdown",
      "metadata": {
        "id": "uAMA_qoG5Gf9",
        "colab_type": "text"
      },
      "source": [
        "## Correlation Matrix"
      ]
    },
    {
      "cell_type": "code",
      "metadata": {
        "id": "8XaWNRhk459A",
        "colab_type": "code",
        "colab": {
          "base_uri": "https://localhost:8080/",
          "height": 173
        },
        "outputId": "b57b650b-c76b-4c67-f900-aec318d90870"
      },
      "source": [
        "df_con.corr()"
      ],
      "execution_count": 91,
      "outputs": [
        {
          "output_type": "execute_result",
          "data": {
            "text/html": [
              "<div>\n",
              "<style scoped>\n",
              "    .dataframe tbody tr th:only-of-type {\n",
              "        vertical-align: middle;\n",
              "    }\n",
              "\n",
              "    .dataframe tbody tr th {\n",
              "        vertical-align: top;\n",
              "    }\n",
              "\n",
              "    .dataframe thead th {\n",
              "        text-align: right;\n",
              "    }\n",
              "</style>\n",
              "<table border=\"1\" class=\"dataframe\">\n",
              "  <thead>\n",
              "    <tr style=\"text-align: right;\">\n",
              "      <th></th>\n",
              "      <th>Reason</th>\n",
              "      <th>Instr Bal</th>\n",
              "      <th>Paid</th>\n",
              "      <th>Email</th>\n",
              "    </tr>\n",
              "  </thead>\n",
              "  <tbody>\n",
              "    <tr>\n",
              "      <th>Reason</th>\n",
              "      <td>1.000000</td>\n",
              "      <td>-0.051981</td>\n",
              "      <td>0.613178</td>\n",
              "      <td>-0.033493</td>\n",
              "    </tr>\n",
              "    <tr>\n",
              "      <th>Instr Bal</th>\n",
              "      <td>-0.051981</td>\n",
              "      <td>1.000000</td>\n",
              "      <td>0.030292</td>\n",
              "      <td>-0.026791</td>\n",
              "    </tr>\n",
              "    <tr>\n",
              "      <th>Paid</th>\n",
              "      <td>0.613178</td>\n",
              "      <td>0.030292</td>\n",
              "      <td>1.000000</td>\n",
              "      <td>-0.021320</td>\n",
              "    </tr>\n",
              "    <tr>\n",
              "      <th>Email</th>\n",
              "      <td>-0.033493</td>\n",
              "      <td>-0.026791</td>\n",
              "      <td>-0.021320</td>\n",
              "      <td>1.000000</td>\n",
              "    </tr>\n",
              "  </tbody>\n",
              "</table>\n",
              "</div>"
            ],
            "text/plain": [
              "             Reason  Instr Bal      Paid     Email\n",
              "Reason     1.000000  -0.051981  0.613178 -0.033493\n",
              "Instr Bal -0.051981   1.000000  0.030292 -0.026791\n",
              "Paid       0.613178   0.030292  1.000000 -0.021320\n",
              "Email     -0.033493  -0.026791 -0.021320  1.000000"
            ]
          },
          "metadata": {
            "tags": []
          },
          "execution_count": 91
        }
      ]
    },
    {
      "cell_type": "markdown",
      "metadata": {
        "id": "w4Vxqqtc5Nvz",
        "colab_type": "text"
      },
      "source": [
        "## Heat map"
      ]
    },
    {
      "cell_type": "code",
      "metadata": {
        "id": "yaFq9g9p1y3H",
        "colab_type": "code",
        "colab": {}
      },
      "source": [
        "import altair as alt\n",
        "from IPython.core.interactiveshell import InteractiveShell\n",
        "InteractiveShell.ast_node_interactivity = \"all\""
      ],
      "execution_count": 0,
      "outputs": []
    },
    {
      "cell_type": "markdown",
      "metadata": {
        "id": "Z9n641pj5nSC",
        "colab_type": "text"
      },
      "source": [
        "## Let’s start by making a correlation matrix heatmap for phone data set."
      ]
    },
    {
      "cell_type": "code",
      "metadata": {
        "id": "-xouZ5j-4Y_m",
        "colab_type": "code",
        "colab": {
          "base_uri": "https://localhost:8080/",
          "height": 277
        },
        "outputId": "31e5c47c-761a-4387-cc4e-041b7963945f"
      },
      "source": [
        "g=sb.heatmap(pearsoncorr, \n",
        "            xticklabels=pearsoncorr.columns,\n",
        "            yticklabels=pearsoncorr.columns,\n",
        "            cmap='RdBu_r',\n",
        "            annot=True,\n",
        "          )"
      ],
      "execution_count": 103,
      "outputs": [
        {
          "output_type": "display_data",
          "data": {
            "image/png": "[encoded data removed]",
            "text/plain": [
              "<Figure size 432x288 with 2 Axes>"
            ]
          },
          "metadata": {
            "tags": []
          }
        }
      ]
    },
    {
      "cell_type": "code",
      "metadata": {
        "id": "g9S45x6j5qIq",
        "colab_type": "code",
        "colab": {
          "base_uri": "https://localhost:8080/",
          "height": 173
        },
        "outputId": "b5b46aac-65cf-443c-d732-5fa11fe47b83"
      },
      "source": [
        "df=df_corr.iloc[:,0:4]\n",
        "df.dropna(inplace=True)\n",
        "df['Tel 1']=df['Tel 1'].map(lambda x: str(x) if type(x)!=str else x)\n",
        "X_train=df[[\"Tel 1\"]]\n",
        "le = MultiColumnLabelEncoder()\n",
        "X_train_le = le.fit_transform(X_train)\n",
        "df_con=pd.concat([df_corr_dr.iloc[:,0:3],X_train_le], axis=1)\n",
        "pearsoncorr=df_con.corr(method='pearson')\n",
        "df_con.corr()"
      ],
      "execution_count": 93,
      "outputs": [
        {
          "output_type": "execute_result",
          "data": {
            "text/html": [
              "<div>\n",
              "<style scoped>\n",
              "    .dataframe tbody tr th:only-of-type {\n",
              "        vertical-align: middle;\n",
              "    }\n",
              "\n",
              "    .dataframe tbody tr th {\n",
              "        vertical-align: top;\n",
              "    }\n",
              "\n",
              "    .dataframe thead th {\n",
              "        text-align: right;\n",
              "    }\n",
              "</style>\n",
              "<table border=\"1\" class=\"dataframe\">\n",
              "  <thead>\n",
              "    <tr style=\"text-align: right;\">\n",
              "      <th></th>\n",
              "      <th>Reason</th>\n",
              "      <th>Instr Bal</th>\n",
              "      <th>Paid</th>\n",
              "      <th>Tel 1</th>\n",
              "    </tr>\n",
              "  </thead>\n",
              "  <tbody>\n",
              "    <tr>\n",
              "      <th>Reason</th>\n",
              "      <td>1.000000</td>\n",
              "      <td>-0.051981</td>\n",
              "      <td>0.613178</td>\n",
              "      <td>0.023120</td>\n",
              "    </tr>\n",
              "    <tr>\n",
              "      <th>Instr Bal</th>\n",
              "      <td>-0.051981</td>\n",
              "      <td>1.000000</td>\n",
              "      <td>0.030292</td>\n",
              "      <td>0.003897</td>\n",
              "    </tr>\n",
              "    <tr>\n",
              "      <th>Paid</th>\n",
              "      <td>0.613178</td>\n",
              "      <td>0.030292</td>\n",
              "      <td>1.000000</td>\n",
              "      <td>0.016912</td>\n",
              "    </tr>\n",
              "    <tr>\n",
              "      <th>Tel 1</th>\n",
              "      <td>0.023120</td>\n",
              "      <td>0.003897</td>\n",
              "      <td>0.016912</td>\n",
              "      <td>1.000000</td>\n",
              "    </tr>\n",
              "  </tbody>\n",
              "</table>\n",
              "</div>"
            ],
            "text/plain": [
              "             Reason  Instr Bal      Paid     Tel 1\n",
              "Reason     1.000000  -0.051981  0.613178  0.023120\n",
              "Instr Bal -0.051981   1.000000  0.030292  0.003897\n",
              "Paid       0.613178   0.030292  1.000000  0.016912\n",
              "Tel 1      0.023120   0.003897  0.016912  1.000000"
            ]
          },
          "metadata": {
            "tags": []
          },
          "execution_count": 93
        }
      ]
    },
    {
      "cell_type": "code",
      "metadata": {
        "id": "VLCy6_GS7xhz",
        "colab_type": "code",
        "colab": {
          "base_uri": "https://localhost:8080/",
          "height": 277
        },
        "outputId": "16cf3ce4-4a98-4dc6-8dea-63a3b0fccca2"
      },
      "source": [
        "g=sb.heatmap(pearsoncorr, \n",
        "            xticklabels=pearsoncorr.columns,\n",
        "            yticklabels=pearsoncorr.columns,\n",
        "            cmap='RdBu_r',\n",
        "            annot=True,\n",
        "            linewidths=.9\n",
        "          )"
      ],
      "execution_count": 105,
      "outputs": [
        {
          "output_type": "display_data",
          "data": {
            "image/png": "[encoded data removed]",
            "text/plain": [
              "<Figure size 432x288 with 2 Axes>"
            ]
          },
          "metadata": {
            "tags": []
          }
        }
      ]
    },
    {
      "cell_type": "code",
      "metadata": {
        "id": "JG9Lzp5v78Q_",
        "colab_type": "code",
        "colab": {}
      },
      "source": [
        "df.to_excel('phone_operators.xlsx')"
      ],
      "execution_count": 0,
      "outputs": []
    },
    {
      "cell_type": "markdown",
      "metadata": {
        "id": "A_LQFGMh-CaH",
        "colab_type": "text"
      },
      "source": [
        "## How much in payments are received by month and by 'portfolio'?"
      ]
    },
    {
      "cell_type": "code",
      "metadata": {
        "id": "ATF_Q3yy-zjW",
        "colab_type": "code",
        "colab": {
          "base_uri": "https://localhost:8080/",
          "height": 102
        },
        "outputId": "da15c76c-2f3a-4b38-ab5e-bb0e391ca760"
      },
      "source": [
        "df_short=df_orig[['Reason', 'Instr Bal','Paid','Last Pay Dt','First Pay Dt','Tel 1', 'Email']]\n",
        "df_short.dropna(inplace=True)"
      ],
      "execution_count": 96,
      "outputs": [
        {
          "output_type": "stream",
          "text": [
            "/usr/local/lib/python3.6/dist-packages/ipykernel_launcher.py:2: SettingWithCopyWarning: \n",
            "A value is trying to be set on a copy of a slice from a DataFrame\n",
            "\n",
            "See the caveats in the documentation: http://pandas.pydata.org/pandas-docs/stable/user_guide/indexing.html#returning-a-view-versus-a-copy\n",
            "  \n"
          ],
          "name": "stderr"
        }
      ]
    },
    {
      "cell_type": "markdown",
      "metadata": {
        "id": "Ana4KMUvA_Co",
        "colab_type": "text"
      },
      "source": [
        "### After removed all empty sells, there are 5384 rows out of over 67000"
      ]
    },
    {
      "cell_type": "code",
      "metadata": {
        "id": "4375vetH-0zx",
        "colab_type": "code",
        "colab": {
          "base_uri": "https://localhost:8080/",
          "height": 34
        },
        "outputId": "735d366d-e521-48ba-9aa1-91c1f36669a8"
      },
      "source": [
        "df_short.shape"
      ],
      "execution_count": 97,
      "outputs": [
        {
          "output_type": "execute_result",
          "data": {
            "text/plain": [
              "(5384, 7)"
            ]
          },
          "metadata": {
            "tags": []
          },
          "execution_count": 97
        }
      ]
    },
    {
      "cell_type": "code",
      "metadata": {
        "id": "Sg_AOL5g78_Q",
        "colab_type": "code",
        "colab": {
          "base_uri": "https://localhost:8080/",
          "height": 918
        },
        "outputId": "9b449a97-26b8-4ad8-b31d-4a04a73c5c70"
      },
      "source": [
        "df_short=df_orig[['Reason', 'Instr Bal','Paid','Last Pay Dt','First Pay Dt','Tel 1', 'Email']]\n",
        "df_short.dropna(inplace=True)\n",
        "df_short['Last Pay Dt']=df_short['Last Pay Dt'].map(lambda x: datetime.strptime(x,'%d/%m/%y') if type(x)==str else x )\n",
        "df_short['First Pay Dt']=df_short['First Pay Dt'].map(lambda x: datetime.strptime(x,'%d/%m/%y') if type(x)==str else x )\n",
        "df_short['diff_months'] = df_short['Last Pay Dt'] - df_short['First Pay Dt']\n",
        "df_short['diff_months']=df_short['diff_months']/np.timedelta64(1,'M')\n",
        "df_short['Paid'] = df_short['Paid'].map(lambda x: x.replace('£', '') if type(x)==str else x)\n",
        "df_short['Paid'] = df_short['Paid'].map(lambda x: x.replace(',', '') if type(x)==str else x)\n",
        "df_short['Paid'] = df_short['Paid'].map(lambda x: float(x) if type(x)==str else x)\n",
        "df_short['per_month_pay']=df_short['Paid']/np.around(df_short['diff_months']+1)"
      ],
      "execution_count": 98,
      "outputs": [
        {
          "output_type": "stream",
          "text": [
            "/usr/local/lib/python3.6/dist-packages/ipykernel_launcher.py:2: SettingWithCopyWarning: \n",
            "A value is trying to be set on a copy of a slice from a DataFrame\n",
            "\n",
            "See the caveats in the documentation: http://pandas.pydata.org/pandas-docs/stable/user_guide/indexing.html#returning-a-view-versus-a-copy\n",
            "  \n",
            "/usr/local/lib/python3.6/dist-packages/ipykernel_launcher.py:3: SettingWithCopyWarning: \n",
            "A value is trying to be set on a copy of a slice from a DataFrame.\n",
            "Try using .loc[row_indexer,col_indexer] = value instead\n",
            "\n",
            "See the caveats in the documentation: http://pandas.pydata.org/pandas-docs/stable/user_guide/indexing.html#returning-a-view-versus-a-copy\n",
            "  This is separate from the ipykernel package so we can avoid doing imports until\n",
            "/usr/local/lib/python3.6/dist-packages/ipykernel_launcher.py:4: SettingWithCopyWarning: \n",
            "A value is trying to be set on a copy of a slice from a DataFrame.\n",
            "Try using .loc[row_indexer,col_indexer] = value instead\n",
            "\n",
            "See the caveats in the documentation: http://pandas.pydata.org/pandas-docs/stable/user_guide/indexing.html#returning-a-view-versus-a-copy\n",
            "  after removing the cwd from sys.path.\n",
            "/usr/local/lib/python3.6/dist-packages/ipykernel_launcher.py:5: SettingWithCopyWarning: \n",
            "A value is trying to be set on a copy of a slice from a DataFrame.\n",
            "Try using .loc[row_indexer,col_indexer] = value instead\n",
            "\n",
            "See the caveats in the documentation: http://pandas.pydata.org/pandas-docs/stable/user_guide/indexing.html#returning-a-view-versus-a-copy\n",
            "  \"\"\"\n",
            "/usr/local/lib/python3.6/dist-packages/ipykernel_launcher.py:6: SettingWithCopyWarning: \n",
            "A value is trying to be set on a copy of a slice from a DataFrame.\n",
            "Try using .loc[row_indexer,col_indexer] = value instead\n",
            "\n",
            "See the caveats in the documentation: http://pandas.pydata.org/pandas-docs/stable/user_guide/indexing.html#returning-a-view-versus-a-copy\n",
            "  \n",
            "/usr/local/lib/python3.6/dist-packages/ipykernel_launcher.py:7: SettingWithCopyWarning: \n",
            "A value is trying to be set on a copy of a slice from a DataFrame.\n",
            "Try using .loc[row_indexer,col_indexer] = value instead\n",
            "\n",
            "See the caveats in the documentation: http://pandas.pydata.org/pandas-docs/stable/user_guide/indexing.html#returning-a-view-versus-a-copy\n",
            "  import sys\n",
            "/usr/local/lib/python3.6/dist-packages/ipykernel_launcher.py:8: SettingWithCopyWarning: \n",
            "A value is trying to be set on a copy of a slice from a DataFrame.\n",
            "Try using .loc[row_indexer,col_indexer] = value instead\n",
            "\n",
            "See the caveats in the documentation: http://pandas.pydata.org/pandas-docs/stable/user_guide/indexing.html#returning-a-view-versus-a-copy\n",
            "  \n",
            "/usr/local/lib/python3.6/dist-packages/ipykernel_launcher.py:9: SettingWithCopyWarning: \n",
            "A value is trying to be set on a copy of a slice from a DataFrame.\n",
            "Try using .loc[row_indexer,col_indexer] = value instead\n",
            "\n",
            "See the caveats in the documentation: http://pandas.pydata.org/pandas-docs/stable/user_guide/indexing.html#returning-a-view-versus-a-copy\n",
            "  if __name__ == '__main__':\n",
            "/usr/local/lib/python3.6/dist-packages/ipykernel_launcher.py:10: SettingWithCopyWarning: \n",
            "A value is trying to be set on a copy of a slice from a DataFrame.\n",
            "Try using .loc[row_indexer,col_indexer] = value instead\n",
            "\n",
            "See the caveats in the documentation: http://pandas.pydata.org/pandas-docs/stable/user_guide/indexing.html#returning-a-view-versus-a-copy\n",
            "  # Remove the CWD from sys.path while we load stuff.\n"
          ],
          "name": "stderr"
        }
      ]
    },
    {
      "cell_type": "code",
      "metadata": {
        "id": "IeViSxJZAH10",
        "colab_type": "code",
        "colab": {}
      },
      "source": [
        "df_short=df_short.iloc[1:,:]\n",
        "df_short.to_excel('per_month_pay.xlsx')"
      ],
      "execution_count": 0,
      "outputs": []
    }
  ]
}