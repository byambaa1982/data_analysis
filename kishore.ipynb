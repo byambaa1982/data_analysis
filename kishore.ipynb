{
  "nbformat": 4,
  "nbformat_minor": 0,
  "metadata": {
    "colab": {
      "name": "kishore.ipynb",
      "provenance": [],
      "include_colab_link": true
    },
    "kernelspec": {
      "name": "python3",
      "display_name": "Python 3"
    }
  },
  "cells": [
    {
      "cell_type": "markdown",
      "metadata": {
        "id": "view-in-github",
        "colab_type": "text"
      },
      "source": [
        "<a href=\"https://colab.research.google.com/github/byambaa1982/data_analysis/blob/master/kishore.ipynb\" target=\"_parent\"><img src=\"https://colab.research.google.com/assets/colab-badge.svg\" alt=\"Open In Colab\"/></a>"
      ]
    },
    {
      "cell_type": "code",
      "metadata": {
        "id": "X2eCLZW3r40p",
        "colab_type": "code",
        "colab": {}
      },
      "source": [
        "import numpy as np\n",
        "import pandas as pd\n",
        "import seaborn as sns\n",
        "import matplotlib.pyplot as plt\n",
        "import seaborn as sb\n",
        "\n",
        "%matplotlib inline\n"
      ],
      "execution_count": 0,
      "outputs": []
    },
    {
      "cell_type": "code",
      "metadata": {
        "id": "Oc8W5EpMsIlk",
        "colab_type": "code",
        "colab": {}
      },
      "source": [
        "df_orig=pd.read_excel(\"/content/data1.xlsx\")"
      ],
      "execution_count": 0,
      "outputs": []
    },
    {
      "cell_type": "code",
      "metadata": {
        "id": "Ht2nCeJcSOKX",
        "colab_type": "code",
        "colab": {
          "base_uri": "https://localhost:8080/",
          "height": 204
        },
        "outputId": "c920b2a9-7bde-41cf-a965-980f437cc6d6"
      },
      "source": [
        "df_short=df_orig[['Reason', 'Instr Bal','Paid','Last Pay Dt','First Pay Dt','Tel 1', 'Email']]\n",
        "df_short=df_short.dropna()\n",
        "df_short.head()"
      ],
      "execution_count": 150,
      "outputs": [
        {
          "output_type": "execute_result",
          "data": {
            "text/html": [
              "<div>\n",
              "<style scoped>\n",
              "    .dataframe tbody tr th:only-of-type {\n",
              "        vertical-align: middle;\n",
              "    }\n",
              "\n",
              "    .dataframe tbody tr th {\n",
              "        vertical-align: top;\n",
              "    }\n",
              "\n",
              "    .dataframe thead th {\n",
              "        text-align: right;\n",
              "    }\n",
              "</style>\n",
              "<table border=\"1\" class=\"dataframe\">\n",
              "  <thead>\n",
              "    <tr style=\"text-align: right;\">\n",
              "      <th></th>\n",
              "      <th>Reason</th>\n",
              "      <th>Instr Bal</th>\n",
              "      <th>Paid</th>\n",
              "      <th>Last Pay Dt</th>\n",
              "      <th>First Pay Dt</th>\n",
              "      <th>Tel 1</th>\n",
              "      <th>Email</th>\n",
              "    </tr>\n",
              "  </thead>\n",
              "  <tbody>\n",
              "    <tr>\n",
              "      <th>49</th>\n",
              "      <td>SPK</td>\n",
              "      <td>£524.14</td>\n",
              "      <td>£60.00</td>\n",
              "      <td>2018-01-03 00:00:00</td>\n",
              "      <td>2018-02-01 00:00:00</td>\n",
              "      <td>O2 (Telefonica UK Ltd)</td>\n",
              "      <td>gmail.com</td>\n",
              "    </tr>\n",
              "    <tr>\n",
              "      <th>59</th>\n",
              "      <td>PIF</td>\n",
              "      <td>£552.98</td>\n",
              "      <td>£552.98</td>\n",
              "      <td>27/06/17</td>\n",
              "      <td>2016-06-12 00:00:00</td>\n",
              "      <td>O2 (Telefonica UK Ltd)</td>\n",
              "      <td>msn.com</td>\n",
              "    </tr>\n",
              "    <tr>\n",
              "      <th>62</th>\n",
              "      <td>PIF</td>\n",
              "      <td>£194.72</td>\n",
              "      <td>£194.72</td>\n",
              "      <td>23/12/16</td>\n",
              "      <td>23/12/16</td>\n",
              "      <td>O2 (Telefonica UK Ltd)</td>\n",
              "      <td>gmail.com</td>\n",
              "    </tr>\n",
              "    <tr>\n",
              "      <th>63</th>\n",
              "      <td>PIF</td>\n",
              "      <td>£876.51</td>\n",
              "      <td>£876.51</td>\n",
              "      <td>26/11/18</td>\n",
              "      <td>25/06/17</td>\n",
              "      <td>Orange (Everything Everywhere Limited)</td>\n",
              "      <td>yahoo.co.uk</td>\n",
              "    </tr>\n",
              "    <tr>\n",
              "      <th>69</th>\n",
              "      <td>PIF</td>\n",
              "      <td>£112.25</td>\n",
              "      <td>£112.25</td>\n",
              "      <td>23/12/16</td>\n",
              "      <td>23/12/16</td>\n",
              "      <td>O2 (Telefonica UK Ltd)</td>\n",
              "      <td>hartlepool.gov.uk</td>\n",
              "    </tr>\n",
              "  </tbody>\n",
              "</table>\n",
              "</div>"
            ],
            "text/plain": [
              "   Reason Instr Bal  ...                                   Tel 1              Email\n",
              "49    SPK   £524.14  ...                  O2 (Telefonica UK Ltd)          gmail.com\n",
              "59    PIF   £552.98  ...                  O2 (Telefonica UK Ltd)            msn.com\n",
              "62    PIF   £194.72  ...                  O2 (Telefonica UK Ltd)          gmail.com\n",
              "63    PIF   £876.51  ...  Orange (Everything Everywhere Limited)        yahoo.co.uk\n",
              "69    PIF   £112.25  ...                  O2 (Telefonica UK Ltd)  hartlepool.gov.uk\n",
              "\n",
              "[5 rows x 7 columns]"
            ]
          },
          "metadata": {
            "tags": []
          },
          "execution_count": 150
        }
      ]
    },
    {
      "cell_type": "markdown",
      "metadata": {
        "id": "tZz-58FFTFPO",
        "colab_type": "text"
      },
      "source": [
        "#Things I've done here\n",
        "1. Removed all Euro sign\n",
        "2. Made strings to float for further calculation\n",
        "3. Made all date same format\n",
        "4. Done data engineering"
      ]
    },
    {
      "cell_type": "markdown",
      "metadata": {
        "id": "lcEhXSMgCbhq",
        "colab_type": "text"
      },
      "source": [
        "## Let's take a look at data.\n",
        "\"Last Pay Dt\" and \"First Pay Dt\" have 56654 missing data out of 67325.\n",
        "A lot of missing data"
      ]
    },
    {
      "cell_type": "code",
      "metadata": {
        "id": "9jIVQ_MT6lj5",
        "colab_type": "code",
        "colab": {
          "base_uri": "https://localhost:8080/",
          "height": 170
        },
        "outputId": "f993fc31-a367-4c8e-fd44-b35abd7ca304"
      },
      "source": [
        "print(df_orig.shape)\n",
        "print(df.isnull().sum())"
      ],
      "execution_count": 65,
      "outputs": [
        {
          "output_type": "stream",
          "text": [
            "(67325, 71)\n",
            "Reason           3028\n",
            "Instr Bal          41\n",
            "Paid               41\n",
            "Last Pay Dt     56654\n",
            "First Pay Dt    56654\n",
            "Tel 1           39369\n",
            "Email            6579\n",
            "dtype: int64\n"
          ],
          "name": "stdout"
        }
      ]
    },
    {
      "cell_type": "markdown",
      "metadata": {
        "id": "19bOiw1lDf6Y",
        "colab_type": "text"
      },
      "source": [
        "## Let's see some statistics"
      ]
    },
    {
      "cell_type": "code",
      "metadata": {
        "id": "duKrdlMAiwA-",
        "colab_type": "code",
        "colab": {
          "base_uri": "https://localhost:8080/",
          "height": 297
        },
        "outputId": "a2ca7bba-8946-4346-d359-fa3c623d1461"
      },
      "source": [
        "df_corr.describe()"
      ],
      "execution_count": 67,
      "outputs": [
        {
          "output_type": "execute_result",
          "data": {
            "text/html": [
              "<div>\n",
              "<style scoped>\n",
              "    .dataframe tbody tr th:only-of-type {\n",
              "        vertical-align: middle;\n",
              "    }\n",
              "\n",
              "    .dataframe tbody tr th {\n",
              "        vertical-align: top;\n",
              "    }\n",
              "\n",
              "    .dataframe thead th {\n",
              "        text-align: right;\n",
              "    }\n",
              "</style>\n",
              "<table border=\"1\" class=\"dataframe\">\n",
              "  <thead>\n",
              "    <tr style=\"text-align: right;\">\n",
              "      <th></th>\n",
              "      <th>Reason</th>\n",
              "      <th>Instr Bal</th>\n",
              "      <th>Paid</th>\n",
              "    </tr>\n",
              "  </thead>\n",
              "  <tbody>\n",
              "    <tr>\n",
              "      <th>count</th>\n",
              "      <td>67284.000000</td>\n",
              "      <td>67284.000000</td>\n",
              "      <td>67284.000000</td>\n",
              "    </tr>\n",
              "    <tr>\n",
              "      <th>mean</th>\n",
              "      <td>0.088862</td>\n",
              "      <td>1036.258121</td>\n",
              "      <td>39.062512</td>\n",
              "    </tr>\n",
              "    <tr>\n",
              "      <th>std</th>\n",
              "      <td>0.284547</td>\n",
              "      <td>1070.552384</td>\n",
              "      <td>141.887675</td>\n",
              "    </tr>\n",
              "    <tr>\n",
              "      <th>min</th>\n",
              "      <td>0.000000</td>\n",
              "      <td>0.010000</td>\n",
              "      <td>0.000000</td>\n",
              "    </tr>\n",
              "    <tr>\n",
              "      <th>25%</th>\n",
              "      <td>0.000000</td>\n",
              "      <td>296.400000</td>\n",
              "      <td>0.000000</td>\n",
              "    </tr>\n",
              "    <tr>\n",
              "      <th>50%</th>\n",
              "      <td>0.000000</td>\n",
              "      <td>777.100000</td>\n",
              "      <td>0.000000</td>\n",
              "    </tr>\n",
              "    <tr>\n",
              "      <th>75%</th>\n",
              "      <td>0.000000</td>\n",
              "      <td>1331.200000</td>\n",
              "      <td>0.000000</td>\n",
              "    </tr>\n",
              "    <tr>\n",
              "      <th>max</th>\n",
              "      <td>1.000000</td>\n",
              "      <td>35643.230000</td>\n",
              "      <td>5100.000000</td>\n",
              "    </tr>\n",
              "  </tbody>\n",
              "</table>\n",
              "</div>"
            ],
            "text/plain": [
              "             Reason     Instr Bal          Paid\n",
              "count  67284.000000  67284.000000  67284.000000\n",
              "mean       0.088862   1036.258121     39.062512\n",
              "std        0.284547   1070.552384    141.887675\n",
              "min        0.000000      0.010000      0.000000\n",
              "25%        0.000000    296.400000      0.000000\n",
              "50%        0.000000    777.100000      0.000000\n",
              "75%        0.000000   1331.200000      0.000000\n",
              "max        1.000000  35643.230000   5100.000000"
            ]
          },
          "metadata": {
            "tags": []
          },
          "execution_count": 67
        }
      ]
    },
    {
      "cell_type": "markdown",
      "metadata": {
        "id": "afxdLiaRNNWj",
        "colab_type": "text"
      },
      "source": [
        "# Questions that need to be answered\n",
        "1. How much in payments are received by month and by 'portfolio'?\n",
        "2. What needs to be included is the amount of the original debt (Instr Bal)?\n",
        "3. what was collected recently (Last Pay Amt) broken down by month, from (Last Pay Dt).\n",
        "4. how much is being collected each month, from each portfolio,\n",
        "5. what percentage of the outstanding balance of each portfolio is collected each month. \n",
        "6. How the collections are trending are they improving or declining? \n",
        "7. which portion is improving or declining? \n",
        "8. Is there any correlation with collections and the telephone number first 5 digits? (Tel 1, Tel2, Tel3) \n",
        "9. Is there a correlation with amount collected and email.\n",
        "\n",
        "\n"
      ]
    },
    {
      "cell_type": "code",
      "metadata": {
        "id": "e_SYCkF4M0Hg",
        "colab_type": "code",
        "colab": {
          "base_uri": "https://localhost:8080/",
          "height": 403
        },
        "outputId": "6a6ca172-5a7c-40c0-8361-694b169e605b"
      },
      "source": [
        "plt.figure(figsize=(26, 20))\n",
        "sns.catplot(x=\"Reason\", y=\"Paid\", hue=\"Tel 1\", kind=\"bar\", data=df_corr)"
      ],
      "execution_count": 69,
      "outputs": [
        {
          "output_type": "execute_result",
          "data": {
            "text/plain": [
              "<seaborn.axisgrid.FacetGrid at 0x7fac0f4fd5c0>"
            ]
          },
          "metadata": {
            "tags": []
          },
          "execution_count": 69
        },
        {
          "output_type": "display_data",
          "data": {
            "text/plain": [
              "<Figure size 1872x1440 with 0 Axes>"
            ]
          },
          "metadata": {
            "tags": []
          }
        },
        {
          "output_type": "display_data",
          "data": {
            "image/png": "[encoded data removed]",
            "text/plain": [
              "<Figure size 651.959x360 with 1 Axes>"
            ]
          },
          "metadata": {
            "tags": []
          }
        }
      ]
    },
    {
      "cell_type": "code",
      "metadata": {
        "id": "qWuIoT1GOoF6",
        "colab_type": "code",
        "colab": {
          "base_uri": "https://localhost:8080/",
          "height": 386
        },
        "outputId": "d50be43c-8d1a-4829-dbab-b9b5ad894ff1"
      },
      "source": [
        "sns.catplot(x=\"Reason\", y=\"Instr Bal\", hue=\"Tel 1\", kind=\"bar\", data=df_corr)"
      ],
      "execution_count": 70,
      "outputs": [
        {
          "output_type": "execute_result",
          "data": {
            "text/plain": [
              "<seaborn.axisgrid.FacetGrid at 0x7fabde410b70>"
            ]
          },
          "metadata": {
            "tags": []
          },
          "execution_count": 70
        },
        {
          "output_type": "display_data",
          "data": {
            "image/png": "[encoded data removed]",
            "text/plain": [
              "<Figure size 651.959x360 with 1 Axes>"
            ]
          },
          "metadata": {
            "tags": []
          }
        }
      ]
    },
    {
      "cell_type": "code",
      "metadata": {
        "id": "aLwnalH1QNF1",
        "colab_type": "code",
        "colab": {
          "base_uri": "https://localhost:8080/",
          "height": 629
        },
        "outputId": "3ea8c1b7-6c28-4d7b-f874-0cfabb3c095b"
      },
      "source": [
        "g=sns.catplot(x=\"Tel 1\", y=\"Instr Bal\", kind=\"bar\", data=df_corr)\n",
        "g.set_xticklabels(rotation=90)"
      ],
      "execution_count": 71,
      "outputs": [
        {
          "output_type": "execute_result",
          "data": {
            "text/plain": [
              "<seaborn.axisgrid.FacetGrid at 0x7fabe068e470>"
            ]
          },
          "metadata": {
            "tags": []
          },
          "execution_count": 71
        },
        {
          "output_type": "display_data",
          "data": {
            "image/png": "[encoded data removed]",
            "text/plain": [
              "<Figure size 360x360 with 1 Axes>"
            ]
          },
          "metadata": {
            "tags": []
          }
        }
      ]
    },
    {
      "cell_type": "markdown",
      "metadata": {
        "id": "rdozE4UWWWvj",
        "colab_type": "text"
      },
      "source": [
        "## What is the most popular phone operator?"
      ]
    },
    {
      "cell_type": "code",
      "metadata": {
        "id": "srwvyyW2WEyV",
        "colab_type": "code",
        "colab": {
          "base_uri": "https://localhost:8080/",
          "height": 683
        },
        "outputId": "3d7663f1-f2f3-4bb1-c690-e82c38b6a166"
      },
      "source": [
        "g = sns.factorplot(\"Tel 1\", data=df_corr, aspect=1.5, kind=\"count\", color=\"b\")\n",
        "g.set_xticklabels(rotation=90)"
      ],
      "execution_count": 72,
      "outputs": [
        {
          "output_type": "stream",
          "text": [
            "/usr/local/lib/python3.6/dist-packages/seaborn/categorical.py:3666: UserWarning: The `factorplot` function has been renamed to `catplot`. The original name will be removed in a future release. Please update your code. Note that the default `kind` in `factorplot` (`'point'`) has changed `'strip'` in `catplot`.\n",
            "  warnings.warn(msg)\n"
          ],
          "name": "stderr"
        },
        {
          "output_type": "execute_result",
          "data": {
            "text/plain": [
              "<seaborn.axisgrid.FacetGrid at 0x7fabdec37d30>"
            ]
          },
          "metadata": {
            "tags": []
          },
          "execution_count": 72
        },
        {
          "output_type": "display_data",
          "data": {
            "image/png": "[encoded data removed]",
            "text/plain": [
              "<Figure size 540x360 with 1 Axes>"
            ]
          },
          "metadata": {
            "tags": []
          }
        }
      ]
    },
    {
      "cell_type": "markdown",
      "metadata": {
        "id": "wVgi9i6AVBA1",
        "colab_type": "text"
      },
      "source": [
        "## There are 1479 different email domains. "
      ]
    },
    {
      "cell_type": "code",
      "metadata": {
        "id": "Eds2C5PaUYo4",
        "colab_type": "code",
        "colab": {
          "base_uri": "https://localhost:8080/",
          "height": 34
        },
        "outputId": "f11c009f-1424-4f5c-95fd-3bb309d7fe4a"
      },
      "source": [
        "len(df_corr.Email.value_counts())"
      ],
      "execution_count": 73,
      "outputs": [
        {
          "output_type": "execute_result",
          "data": {
            "text/plain": [
              "1479"
            ]
          },
          "metadata": {
            "tags": []
          },
          "execution_count": 73
        }
      ]
    },
    {
      "cell_type": "markdown",
      "metadata": {
        "id": "inJ-GeLmVOIZ",
        "colab_type": "text"
      },
      "source": [
        "## The most popular email domains are gmail.com, hotmail.co.uk, \n",
        "## hotmail.com, yahoo.co.uk and live.co.uk"
      ]
    },
    {
      "cell_type": "code",
      "metadata": {
        "id": "8Jfn3yKrVVhg",
        "colab_type": "code",
        "colab": {
          "base_uri": "https://localhost:8080/",
          "height": 221
        },
        "outputId": "aa46bd27-9d35-40f3-8693-1e4008581dd3"
      },
      "source": [
        "df_corr.Email.value_counts()"
      ],
      "execution_count": 74,
      "outputs": [
        {
          "output_type": "execute_result",
          "data": {
            "text/plain": [
              "gmail.com                 13956\n",
              "hotmail.co.uk             12822\n",
              "hotmail.com                8016\n",
              "yahoo.co.uk                4122\n",
              "live.co.uk                 3368\n",
              "                          ...  \n",
              "wilkinson-helsby.co.uk        1\n",
              "altnation.com                 1\n",
              "kcom.co.uk                    1\n",
              "gmx.co                        1\n",
              "agema-ind.com                 1\n",
              "Name: Email, Length: 1479, dtype: int64"
            ]
          },
          "metadata": {
            "tags": []
          },
          "execution_count": 74
        }
      ]
    },
    {
      "cell_type": "markdown",
      "metadata": {
        "id": "31Pu38yQRRWs",
        "colab_type": "text"
      },
      "source": [
        "# What email users are more likely pay their debt."
      ]
    },
    {
      "cell_type": "code",
      "metadata": {
        "id": "IxLJdu0rean8",
        "colab_type": "code",
        "colab": {
          "base_uri": "https://localhost:8080/",
          "height": 451
        },
        "outputId": "936bd5d4-c6e3-49f4-fabb-371a66c8d214"
      },
      "source": [
        "g = sns.catplot(x=\"Email\", y=\"Reason\",\n",
        "                data=df_corr_dr, saturation=.5,\n",
        "                 kind=\"bar\", ci=None, aspect=.6)\n",
        "g.set_xticklabels(rotation=90)"
      ],
      "execution_count": 77,
      "outputs": [
        {
          "output_type": "execute_result",
          "data": {
            "text/plain": [
              "<seaborn.axisgrid.FacetGrid at 0x7fabe06500f0>"
            ]
          },
          "metadata": {
            "tags": []
          },
          "execution_count": 77
        },
        {
          "output_type": "display_data",
          "data": {
            "image/png": "[encoded data removed]",
            "text/plain": [
              "<Figure size 216x360 with 1 Axes>"
            ]
          },
          "metadata": {
            "tags": []
          }
        }
      ]
    },
    {
      "cell_type": "markdown",
      "metadata": {
        "id": "jPTw6f1QRHGg",
        "colab_type": "text"
      },
      "source": [
        "# Phone user vs Initial Balance"
      ]
    },
    {
      "cell_type": "code",
      "metadata": {
        "id": "MnGtq8rOZBTf",
        "colab_type": "code",
        "colab": {
          "base_uri": "https://localhost:8080/",
          "height": 629
        },
        "outputId": "813e52b7-a1be-4645-acdc-580c42be4ade"
      },
      "source": [
        "g=sns.catplot(x=\"Tel 1\", y=\"Instr Bal\", kind=\"bar\", data=df_corr_dr)\n",
        "g.set_xticklabels(rotation=90)"
      ],
      "execution_count": 79,
      "outputs": [
        {
          "output_type": "execute_result",
          "data": {
            "text/plain": [
              "<seaborn.axisgrid.FacetGrid at 0x7fabde3bb0b8>"
            ]
          },
          "metadata": {
            "tags": []
          },
          "execution_count": 79
        },
        {
          "output_type": "display_data",
          "data": {
            "image/png": "[encoded data removed]",
            "text/plain": [
              "<Figure size 360x360 with 1 Axes>"
            ]
          },
          "metadata": {
            "tags": []
          }
        }
      ]
    },
    {
      "cell_type": "code",
      "metadata": {
        "id": "sfLWGY2FZHwk",
        "colab_type": "code",
        "colab": {
          "base_uri": "https://localhost:8080/",
          "height": 629
        },
        "outputId": "6b4b63e6-73eb-42d7-ee72-a0f2db532794"
      },
      "source": [
        "g=sns.catplot(x=\"Tel 1\", y=\"Paid\", kind=\"bar\", data=df_corr_dr)\n",
        "g.set_xticklabels(rotation=90)"
      ],
      "execution_count": 80,
      "outputs": [
        {
          "output_type": "execute_result",
          "data": {
            "text/plain": [
              "<seaborn.axisgrid.FacetGrid at 0x7fabe0c98780>"
            ]
          },
          "metadata": {
            "tags": []
          },
          "execution_count": 80
        },
        {
          "output_type": "display_data",
          "data": {
            "image/png": "[encoded data removed]",
            "text/plain": [
              "<Figure size 360x360 with 1 Axes>"
            ]
          },
          "metadata": {
            "tags": []
          }
        }
      ]
    },
    {
      "cell_type": "markdown",
      "metadata": {
        "id": "RK_x3c_P073b",
        "colab_type": "text"
      },
      "source": [
        "## Let’s start by making a correlation matrix heatmap for the email data set."
      ]
    },
    {
      "cell_type": "code",
      "metadata": {
        "id": "srGKMXD81NA8",
        "colab_type": "code",
        "colab": {}
      },
      "source": [
        "df_con.to_excel('five_pop_email.xlsx')"
      ],
      "execution_count": 0,
      "outputs": []
    },
    {
      "cell_type": "markdown",
      "metadata": {
        "id": "u6xHe40B2c42",
        "colab_type": "text"
      },
      "source": [
        "## The most five popular email domains"
      ]
    },
    {
      "cell_type": "markdown",
      "metadata": {
        "id": "uAMA_qoG5Gf9",
        "colab_type": "text"
      },
      "source": [
        "## Correlation Matrix"
      ]
    },
    {
      "cell_type": "code",
      "metadata": {
        "id": "8XaWNRhk459A",
        "colab_type": "code",
        "colab": {
          "base_uri": "https://localhost:8080/",
          "height": 173
        },
        "outputId": "b57b650b-c76b-4c67-f900-aec318d90870"
      },
      "source": [
        "df_con.corr()"
      ],
      "execution_count": 91,
      "outputs": [
        {
          "output_type": "execute_result",
          "data": {
            "text/html": [
              "<div>\n",
              "<style scoped>\n",
              "    .dataframe tbody tr th:only-of-type {\n",
              "        vertical-align: middle;\n",
              "    }\n",
              "\n",
              "    .dataframe tbody tr th {\n",
              "        vertical-align: top;\n",
              "    }\n",
              "\n",
              "    .dataframe thead th {\n",
              "        text-align: right;\n",
              "    }\n",
              "</style>\n",
              "<table border=\"1\" class=\"dataframe\">\n",
              "  <thead>\n",
              "    <tr style=\"text-align: right;\">\n",
              "      <th></th>\n",
              "      <th>Reason</th>\n",
              "      <th>Instr Bal</th>\n",
              "      <th>Paid</th>\n",
              "      <th>Email</th>\n",
              "    </tr>\n",
              "  </thead>\n",
              "  <tbody>\n",
              "    <tr>\n",
              "      <th>Reason</th>\n",
              "      <td>1.000000</td>\n",
              "      <td>-0.051981</td>\n",
              "      <td>0.613178</td>\n",
              "      <td>-0.033493</td>\n",
              "    </tr>\n",
              "    <tr>\n",
              "      <th>Instr Bal</th>\n",
              "      <td>-0.051981</td>\n",
              "      <td>1.000000</td>\n",
              "      <td>0.030292</td>\n",
              "      <td>-0.026791</td>\n",
              "    </tr>\n",
              "    <tr>\n",
              "      <th>Paid</th>\n",
              "      <td>0.613178</td>\n",
              "      <td>0.030292</td>\n",
              "      <td>1.000000</td>\n",
              "      <td>-0.021320</td>\n",
              "    </tr>\n",
              "    <tr>\n",
              "      <th>Email</th>\n",
              "      <td>-0.033493</td>\n",
              "      <td>-0.026791</td>\n",
              "      <td>-0.021320</td>\n",
              "      <td>1.000000</td>\n",
              "    </tr>\n",
              "  </tbody>\n",
              "</table>\n",
              "</div>"
            ],
            "text/plain": [
              "             Reason  Instr Bal      Paid     Email\n",
              "Reason     1.000000  -0.051981  0.613178 -0.033493\n",
              "Instr Bal -0.051981   1.000000  0.030292 -0.026791\n",
              "Paid       0.613178   0.030292  1.000000 -0.021320\n",
              "Email     -0.033493  -0.026791 -0.021320  1.000000"
            ]
          },
          "metadata": {
            "tags": []
          },
          "execution_count": 91
        }
      ]
    },
    {
      "cell_type": "markdown",
      "metadata": {
        "id": "w4Vxqqtc5Nvz",
        "colab_type": "text"
      },
      "source": [
        "## Heat map"
      ]
    },
    {
      "cell_type": "code",
      "metadata": {
        "id": "yaFq9g9p1y3H",
        "colab_type": "code",
        "colab": {}
      },
      "source": [
        "import altair as alt\n",
        "from IPython.core.interactiveshell import InteractiveShell\n",
        "InteractiveShell.ast_node_interactivity = \"all\""
      ],
      "execution_count": 0,
      "outputs": []
    },
    {
      "cell_type": "markdown",
      "metadata": {
        "id": "Z9n641pj5nSC",
        "colab_type": "text"
      },
      "source": [
        "## Let’s start by making a correlation matrix heatmap for phone data set."
      ]
    },
    {
      "cell_type": "code",
      "metadata": {
        "id": "AMGtSxqXOMMd",
        "colab_type": "code",
        "colab": {}
      },
      "source": [
        "df=pd.read_csv('/content/email_numerical.csv')\n",
        "pearsoncorr=df.corr()"
      ],
      "execution_count": 0,
      "outputs": []
    },
    {
      "cell_type": "code",
      "metadata": {
        "id": "-xouZ5j-4Y_m",
        "colab_type": "code",
        "colab": {
          "base_uri": "https://localhost:8080/",
          "height": 280
        },
        "outputId": "c851207c-7f9c-4787-a159-547a7d8471c1"
      },
      "source": [
        "g=sb.heatmap(pearsoncorr, \n",
        "            xticklabels=pearsoncorr.columns,\n",
        "            yticklabels=pearsoncorr.columns,\n",
        "            cmap='RdBu_r',\n",
        "            annot=True,\n",
        "          )"
      ],
      "execution_count": 143,
      "outputs": [
        {
          "output_type": "display_data",
          "data": {
            "image/png": "[encoded data removed]",
            "text/plain": [
              "<Figure size 432x288 with 2 Axes>"
            ]
          },
          "metadata": {
            "tags": []
          }
        }
      ]
    },
    {
      "cell_type": "markdown",
      "metadata": {
        "id": "A_LQFGMh-CaH",
        "colab_type": "text"
      },
      "source": [
        "## How much in payments are received by month and by 'portfolio'?"
      ]
    },
    {
      "cell_type": "markdown",
      "metadata": {
        "id": "Ana4KMUvA_Co",
        "colab_type": "text"
      },
      "source": [
        "### After removed all empty sells, there are 5384 rows out of over 67000"
      ]
    },
    {
      "cell_type": "code",
      "metadata": {
        "id": "IeViSxJZAH10",
        "colab_type": "code",
        "colab": {}
      },
      "source": [
        "df_short=df_short.iloc[1:,:]\n",
        "df_short.to_excel('per_month_pay.xlsx')"
      ],
      "execution_count": 0,
      "outputs": []
    },
    {
      "cell_type": "code",
      "metadata": {
        "id": "RbagksEf9gzD",
        "colab_type": "code",
        "colab": {}
      },
      "source": [
        "df=pd.read_csv('/content/per_m_pay.csv')"
      ],
      "execution_count": 0,
      "outputs": []
    },
    {
      "cell_type": "code",
      "metadata": {
        "id": "twg8ZV549pFa",
        "colab_type": "code",
        "colab": {
          "base_uri": "https://localhost:8080/",
          "height": 187
        },
        "outputId": "b909220b-b981-483e-ab04-a3d954de7309"
      },
      "source": [
        "df.isnull().sum()"
      ],
      "execution_count": 114,
      "outputs": [
        {
          "output_type": "execute_result",
          "data": {
            "text/plain": [
              "Reason           0\n",
              "Instr Bal        0\n",
              "Paid             0\n",
              "Last Pay Dt      0\n",
              "First Pay Dt     0\n",
              "Tel 1            0\n",
              "Email            0\n",
              "diff_months      0\n",
              "per_month_pay    0\n",
              "dtype: int64"
            ]
          },
          "metadata": {
            "tags": []
          },
          "execution_count": 114
        }
      ]
    },
    {
      "cell_type": "code",
      "metadata": {
        "id": "-9kCv2B1AfoT",
        "colab_type": "code",
        "colab": {
          "base_uri": "https://localhost:8080/",
          "height": 204
        },
        "outputId": "e7103587-aa09-4510-810b-b108c8b7b4b9"
      },
      "source": [
        "df.head()"
      ],
      "execution_count": 120,
      "outputs": [
        {
          "output_type": "execute_result",
          "data": {
            "text/html": [
              "<div>\n",
              "<style scoped>\n",
              "    .dataframe tbody tr th:only-of-type {\n",
              "        vertical-align: middle;\n",
              "    }\n",
              "\n",
              "    .dataframe tbody tr th {\n",
              "        vertical-align: top;\n",
              "    }\n",
              "\n",
              "    .dataframe thead th {\n",
              "        text-align: right;\n",
              "    }\n",
              "</style>\n",
              "<table border=\"1\" class=\"dataframe\">\n",
              "  <thead>\n",
              "    <tr style=\"text-align: right;\">\n",
              "      <th></th>\n",
              "      <th>Reason</th>\n",
              "      <th>Instr Bal</th>\n",
              "      <th>Paid</th>\n",
              "      <th>Email</th>\n",
              "    </tr>\n",
              "  </thead>\n",
              "  <tbody>\n",
              "    <tr>\n",
              "      <th>0</th>\n",
              "      <td>1</td>\n",
              "      <td>524.76</td>\n",
              "      <td>524.76</td>\n",
              "      <td>1</td>\n",
              "    </tr>\n",
              "    <tr>\n",
              "      <th>1</th>\n",
              "      <td>0</td>\n",
              "      <td>1198.41</td>\n",
              "      <td>0.00</td>\n",
              "      <td>0</td>\n",
              "    </tr>\n",
              "    <tr>\n",
              "      <th>2</th>\n",
              "      <td>1</td>\n",
              "      <td>614.20</td>\n",
              "      <td>614.20</td>\n",
              "      <td>4</td>\n",
              "    </tr>\n",
              "    <tr>\n",
              "      <th>3</th>\n",
              "      <td>1</td>\n",
              "      <td>530.11</td>\n",
              "      <td>690.11</td>\n",
              "      <td>4</td>\n",
              "    </tr>\n",
              "    <tr>\n",
              "      <th>4</th>\n",
              "      <td>0</td>\n",
              "      <td>1034.40</td>\n",
              "      <td>0.00</td>\n",
              "      <td>1</td>\n",
              "    </tr>\n",
              "  </tbody>\n",
              "</table>\n",
              "</div>"
            ],
            "text/plain": [
              "   Reason  Instr Bal    Paid  Email\n",
              "0       1     524.76  524.76      1\n",
              "1       0    1198.41    0.00      0\n",
              "2       1     614.20  614.20      4\n",
              "3       1     530.11  690.11      4\n",
              "4       0    1034.40    0.00      1"
            ]
          },
          "metadata": {
            "tags": []
          },
          "execution_count": 120
        }
      ]
    },
    {
      "cell_type": "code",
      "metadata": {
        "id": "kzOwVv1YHB12",
        "colab_type": "code",
        "colab": {}
      },
      "source": [
        "df=pd.read_csv('/content/phone.csv')"
      ],
      "execution_count": 0,
      "outputs": []
    },
    {
      "cell_type": "markdown",
      "metadata": {
        "id": "7VeMhzAMKLT0",
        "colab_type": "text"
      },
      "source": [
        "# What percentage of the outstanding balance of each portfolio is collected each month."
      ]
    },
    {
      "cell_type": "markdown",
      "metadata": {
        "id": "1viimaejNgXj",
        "colab_type": "text"
      },
      "source": [
        "##Dividing monthly payment by the outstanding balance, we can build percentage feature"
      ]
    },
    {
      "cell_type": "code",
      "metadata": {
        "id": "ll-uSx9XKOxG",
        "colab_type": "code",
        "colab": {
          "base_uri": "https://localhost:8080/",
          "height": 204
        },
        "outputId": "084ba01e-7991-47ce-c168-5fca6cbd0177"
      },
      "source": [
        "df=pd.read_csv('/content/per_m_pay.csv')\n",
        "df['percentage']=(df['per_month_pay']/df['Instr Bal'])\n",
        "df.head()"
      ],
      "execution_count": 144,
      "outputs": [
        {
          "output_type": "execute_result",
          "data": {
            "text/html": [
              "<div>\n",
              "<style scoped>\n",
              "    .dataframe tbody tr th:only-of-type {\n",
              "        vertical-align: middle;\n",
              "    }\n",
              "\n",
              "    .dataframe tbody tr th {\n",
              "        vertical-align: top;\n",
              "    }\n",
              "\n",
              "    .dataframe thead th {\n",
              "        text-align: right;\n",
              "    }\n",
              "</style>\n",
              "<table border=\"1\" class=\"dataframe\">\n",
              "  <thead>\n",
              "    <tr style=\"text-align: right;\">\n",
              "      <th></th>\n",
              "      <th>Reason</th>\n",
              "      <th>Instr Bal</th>\n",
              "      <th>Paid</th>\n",
              "      <th>Last Pay Dt</th>\n",
              "      <th>First Pay Dt</th>\n",
              "      <th>Tel 1</th>\n",
              "      <th>Email</th>\n",
              "      <th>diff_months</th>\n",
              "      <th>per_month_pay</th>\n",
              "      <th>percentage</th>\n",
              "    </tr>\n",
              "  </thead>\n",
              "  <tbody>\n",
              "    <tr>\n",
              "      <th>0</th>\n",
              "      <td>0</td>\n",
              "      <td>524.14</td>\n",
              "      <td>60.00</td>\n",
              "      <td>2018-01-03</td>\n",
              "      <td>2018-02-01</td>\n",
              "      <td>O2 (Telefonica UK Ltd)</td>\n",
              "      <td>gmail.com</td>\n",
              "      <td>-0.952792</td>\n",
              "      <td>inf</td>\n",
              "      <td>inf</td>\n",
              "    </tr>\n",
              "    <tr>\n",
              "      <th>1</th>\n",
              "      <td>1</td>\n",
              "      <td>552.98</td>\n",
              "      <td>552.98</td>\n",
              "      <td>2017-06-27</td>\n",
              "      <td>2016-06-12</td>\n",
              "      <td>O2 (Telefonica UK Ltd)</td>\n",
              "      <td>msn.com</td>\n",
              "      <td>12.484856</td>\n",
              "      <td>42.536923</td>\n",
              "      <td>0.076923</td>\n",
              "    </tr>\n",
              "    <tr>\n",
              "      <th>2</th>\n",
              "      <td>1</td>\n",
              "      <td>194.72</td>\n",
              "      <td>194.72</td>\n",
              "      <td>2016-12-23</td>\n",
              "      <td>2016-12-23</td>\n",
              "      <td>O2 (Telefonica UK Ltd)</td>\n",
              "      <td>gmail.com</td>\n",
              "      <td>0.000000</td>\n",
              "      <td>194.720000</td>\n",
              "      <td>1.000000</td>\n",
              "    </tr>\n",
              "    <tr>\n",
              "      <th>3</th>\n",
              "      <td>1</td>\n",
              "      <td>876.51</td>\n",
              "      <td>876.51</td>\n",
              "      <td>2018-11-26</td>\n",
              "      <td>2017-06-25</td>\n",
              "      <td>Orange (Everything Everywhere Limited)</td>\n",
              "      <td>yahoo.co.uk</td>\n",
              "      <td>17.051685</td>\n",
              "      <td>48.695000</td>\n",
              "      <td>0.055556</td>\n",
              "    </tr>\n",
              "    <tr>\n",
              "      <th>4</th>\n",
              "      <td>1</td>\n",
              "      <td>112.25</td>\n",
              "      <td>112.25</td>\n",
              "      <td>2016-12-23</td>\n",
              "      <td>2016-12-23</td>\n",
              "      <td>O2 (Telefonica UK Ltd)</td>\n",
              "      <td>hartlepool.gov.uk</td>\n",
              "      <td>0.000000</td>\n",
              "      <td>112.250000</td>\n",
              "      <td>1.000000</td>\n",
              "    </tr>\n",
              "  </tbody>\n",
              "</table>\n",
              "</div>"
            ],
            "text/plain": [
              "   Reason  Instr Bal    Paid  ... diff_months per_month_pay percentage\n",
              "0       0     524.14   60.00  ...   -0.952792           inf        inf\n",
              "1       1     552.98  552.98  ...   12.484856     42.536923   0.076923\n",
              "2       1     194.72  194.72  ...    0.000000    194.720000   1.000000\n",
              "3       1     876.51  876.51  ...   17.051685     48.695000   0.055556\n",
              "4       1     112.25  112.25  ...    0.000000    112.250000   1.000000\n",
              "\n",
              "[5 rows x 10 columns]"
            ]
          },
          "metadata": {
            "tags": []
          },
          "execution_count": 144
        }
      ]
    }
  ]
}